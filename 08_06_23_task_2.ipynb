{
 "cells": [
  {
   "cell_type": "markdown",
   "id": "69582b06",
   "metadata": {},
   "source": [
    "#### 1.Write a Python program to count the number of characters (character frequency) in a string.\n",
    "#### INPUT-----🡪'google.com'\n",
    "#### OUTPUT----🡪{'g': 2, 'o': 3, 'l': 1, 'e': 1, '.': 1, 'c': 1, 'm': 1}\n"
   ]
  },
  {
   "cell_type": "code",
   "execution_count": 1,
   "id": "0ab85c24",
   "metadata": {},
   "outputs": [
    {
     "name": "stdout",
     "output_type": "stream",
     "text": [
      "{'g': 2, 'o': 3, 'l': 1, 'e': 1, '.': 1, 'c': 1, 'm': 1}\n"
     ]
    }
   ],
   "source": [
    "a = 'google.com'\n",
    "b = {}\n",
    "\n",
    "for i in a:\n",
    "    if i in b:\n",
    "        b[i] += 1 \n",
    "    else:\n",
    "        b[i] = 1\n",
    "\n",
    "print(b)\n"
   ]
  },
  {
   "cell_type": "code",
   "execution_count": 64,
   "id": "d99f0b86",
   "metadata": {},
   "outputs": [
    {
     "name": "stdout",
     "output_type": "stream",
     "text": [
      "{'g': 2, 'o': 3, 'l': 1, 'e': 1, '.': 1, 'c': 1, 'm': 1}\n"
     ]
    }
   ],
   "source": [
    "a = 'google.com'\n",
    "b = {}\n",
    "for i in a:\n",
    "    b[i]=a.count(i)\n",
    "print(b)\n",
    "    "
   ]
  },
  {
   "cell_type": "markdown",
   "id": "9bf0789a",
   "metadata": {},
   "source": [
    "#### 2. Write a Python program to get a string made of the first 2 and last 2 characters of a given string. If the string length is less than 2, return the empty string instead.\n",
    "#### Sample String : 'w3resource'\n",
    "#### Expected Result : 'w3ce'\n",
    "#### Sample String : 'w3'\n",
    "#### Expected Result : 'w3w3'\n",
    "#### Sample String : ' w'\n",
    "#### Expected Result : Empty String"
   ]
  },
  {
   "cell_type": "code",
   "execution_count": 2,
   "id": "427017a5",
   "metadata": {},
   "outputs": [
    {
     "name": "stdout",
     "output_type": "stream",
     "text": [
      "w3w3\n"
     ]
    }
   ],
   "source": [
    "x= \"w3\"\n",
    "if len(x)>=2:\n",
    "    print(x[:2]+x[-2:])\n",
    "else:\n",
    "    print('')\n",
    "    \n"
   ]
  },
  {
   "cell_type": "markdown",
   "id": "82203abb",
   "metadata": {},
   "source": [
    "####  3. Write a Python program to get a string from a given string where all occurrences of its first char have been changed to 'doller sign'\n",
    "#### except the first char itself.\n",
    "#### Sample String : 'restart'\n",
    "#### Expected Result : 'resta$t'"
   ]
  },
  {
   "cell_type": "code",
   "execution_count": 3,
   "id": "2d90fd33",
   "metadata": {},
   "outputs": [
    {
     "name": "stdout",
     "output_type": "stream",
     "text": [
      "asw$thi\n"
     ]
    }
   ],
   "source": [
    "x=\"aswathi\"\n",
    "a= x[0]\n",
    "for i in range (1,len(x)):\n",
    "    if x[i]==a:\n",
    "        s=x.replace(x[i],'$')\n",
    "print(a+s[1:])\n"
   ]
  },
  {
   "cell_type": "markdown",
   "id": "085b34fb",
   "metadata": {},
   "source": [
    "#### 4. Write a Python program to get a single string from two given strings, separated by a space and swap the first two characters of each string.\n",
    "#### Sample String : 'abc', 'xyz'\n",
    "#### Expected Result : 'xyc abz'"
   ]
  },
  {
   "cell_type": "code",
   "execution_count": 4,
   "id": "6b53dd33",
   "metadata": {},
   "outputs": [
    {
     "name": "stdout",
     "output_type": "stream",
     "text": [
      "vwcde abxyz\n"
     ]
    }
   ],
   "source": [
    "a= 'abcde'\n",
    "b='vwxyz'\n",
    "c= a[:2]\n",
    "d =b[:2]\n",
    "print((d+a[2:]),(c+b[2:]))\n"
   ]
  },
  {
   "cell_type": "markdown",
   "id": "9aa6642c",
   "metadata": {},
   "source": [
    "#### 5. Write a Python program to add 'ing' at the end of a given string (length should be at least 3). If the given string already ends with 'ing', add 'ly' instead. If the string length of the given string is less than 3, leave it unchanged."
   ]
  },
  {
   "cell_type": "code",
   "execution_count": 1,
   "id": "254109b6",
   "metadata": {},
   "outputs": [
    {
     "name": "stdout",
     "output_type": "stream",
     "text": [
      "singly\n"
     ]
    }
   ],
   "source": [
    "a=\"singing\"\n",
    "if len(a)>= 3:\n",
    "    if a[-3:] == 'ing':\n",
    "        print(a[:-3]+'ly')\n",
    "    else:\n",
    "        print(a+'ing')\n",
    "elif len(a)<3:\n",
    "    print(a)"
   ]
  },
  {
   "cell_type": "markdown",
   "id": "75178960",
   "metadata": {},
   "source": [
    "#### 6. Write a Python program to find the first appearance of the substrings 'not' and 'poor' in a given string. If 'not' follows 'poor', replace the whole 'not'...'poor' substring with 'good'. Return the resulting string.\n",
    "\n",
    "#### Sample String : 'The lyrics is not that poor!''The lyrics is poor!'\n",
    "#### Expected Result : 'The lyrics is good!"
   ]
  },
  {
   "cell_type": "code",
   "execution_count": 30,
   "id": "047ee64e",
   "metadata": {},
   "outputs": [
    {
     "name": "stdout",
     "output_type": "stream",
     "text": [
      "enter :asdfghj\n",
      "asdfghj\n"
     ]
    }
   ],
   "source": [
    "a=input(\"enter :\")\n",
    "b=a.find('not')\n",
    "c=a.find('poor')\n",
    "if b<c:\n",
    "    s=a.replace(a[b:c+4],'good')\n",
    "    print(s)\n",
    "else:\n",
    "    print(a)\n",
    "\n",
    "\n"
   ]
  },
  {
   "cell_type": "markdown",
   "id": "3a7d4ff6",
   "metadata": {},
   "source": [
    "#### 7. Write a Python program to change a given string to a newly string where the first and last chars have been exchanged.\n"
   ]
  },
  {
   "cell_type": "code",
   "execution_count": 28,
   "id": "44d9060c",
   "metadata": {},
   "outputs": [
    {
     "name": "stdout",
     "output_type": "stream",
     "text": [
      "iswatha\n"
     ]
    }
   ],
   "source": [
    "x='aswathi'\n",
    "a=x[0]\n",
    "b=x[-1]\n",
    "print(b+x[1:len(x)-1]+a)"
   ]
  },
  {
   "cell_type": "markdown",
   "id": "00aaf6df",
   "metadata": {},
   "source": [
    "#### 8. Write a Python program to remove characters that have odd index values in a given string.\n"
   ]
  },
  {
   "cell_type": "code",
   "execution_count": 49,
   "id": "9002db2d",
   "metadata": {},
   "outputs": [
    {
     "name": "stdout",
     "output_type": "stream",
     "text": [
      "awti\n"
     ]
    }
   ],
   "source": [
    "x=\"aswathi\"\n",
    "a=''\n",
    "for i in range(len(x)):\n",
    "    if i%2==0:\n",
    "        a=a+x[i]\n",
    "print(a)"
   ]
  },
  {
   "cell_type": "markdown",
   "id": "c92c92fd",
   "metadata": {},
   "source": [
    "#### 9. Write a Python script that takes input from the user and displays that input back in upper and lower cases.\n"
   ]
  },
  {
   "cell_type": "code",
   "execution_count": 51,
   "id": "ff137cdf",
   "metadata": {},
   "outputs": [
    {
     "name": "stdout",
     "output_type": "stream",
     "text": [
      "enterafjklASDFGHJ\n",
      "AFJKLASDFGHJ\n",
      "afjklasdfghj\n"
     ]
    }
   ],
   "source": [
    "a=input(\"enter   : \")\n",
    "print(a.upper())\n",
    "print(a.lower())"
   ]
  },
  {
   "cell_type": "markdown",
   "id": "fd2f8380",
   "metadata": {},
   "source": [
    "#### 10.Write a Python function to get a string made of 4 copies of the last two characters of a specified string (length must be at least 2).Sample function and result :insert_end('Python') -> onononon insert_end('Exercises') -> eseseses\n"
   ]
  },
  {
   "cell_type": "code",
   "execution_count": 55,
   "id": "532b6e0b",
   "metadata": {},
   "outputs": [
    {
     "name": "stdout",
     "output_type": "stream",
     "text": [
      "onononon"
     ]
    }
   ],
   "source": [
    "x='Python'\n",
    "if len(x)>=2:\n",
    "    for i in range(4):\n",
    "        print(x[-2:],end='')\n",
    "else:\n",
    "    pass\n",
    "        "
   ]
  },
  {
   "cell_type": "markdown",
   "id": "f6c3cc23",
   "metadata": {},
   "source": [
    "#### 11.Write a Python function to get a string made of the first three characters of a specified string. If the length of the string is less than 3, return the original string.\n",
    "#### Sample function and result : first_three('ipy') -> ipy    :          first_three('python') -> pyt\n"
   ]
  },
  {
   "cell_type": "code",
   "execution_count": 63,
   "id": "9beadbcc",
   "metadata": {},
   "outputs": [
    {
     "name": "stdout",
     "output_type": "stream",
     "text": [
      "hel\n"
     ]
    }
   ],
   "source": [
    "x=\"helooooooooooooo\"\n",
    "if len(x)>3:\n",
    "    print(x[:3])\n",
    "else:\n",
    "    print(x)"
   ]
  },
  {
   "cell_type": "code",
   "execution_count": null,
   "id": "c5d969c1",
   "metadata": {},
   "outputs": [],
   "source": []
  }
 ],
 "metadata": {
  "kernelspec": {
   "display_name": "Python 3 (ipykernel)",
   "language": "python",
   "name": "python3"
  },
  "language_info": {
   "codemirror_mode": {
    "name": "ipython",
    "version": 3
   },
   "file_extension": ".py",
   "mimetype": "text/x-python",
   "name": "python",
   "nbconvert_exporter": "python",
   "pygments_lexer": "ipython3",
   "version": "3.10.9"
  }
 },
 "nbformat": 4,
 "nbformat_minor": 5
}
