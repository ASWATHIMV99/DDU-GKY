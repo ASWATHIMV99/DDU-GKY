{
 "cells": [
  {
   "cell_type": "markdown",
   "id": "51df0c6e",
   "metadata": {},
   "source": [
    "#### 1. Write a Python program to multiply all the items in a list.\n"
   ]
  },
  {
   "cell_type": "code",
   "execution_count": 1,
   "id": "41a87c1f",
   "metadata": {},
   "outputs": [
    {
     "name": "stdout",
     "output_type": "stream",
     "text": [
      "3628800\n"
     ]
    }
   ],
   "source": [
    "a=[1,2,3,4,5,6,7,8,9,10]\n",
    "b=1\n",
    "for i in a:\n",
    "    b*=i\n",
    "print(b)"
   ]
  },
  {
   "cell_type": "markdown",
   "id": "f80c7eae",
   "metadata": {},
   "source": [
    "#### 2.Write a Python program to get the largest number from a list.\n"
   ]
  },
  {
   "cell_type": "code",
   "execution_count": 2,
   "id": "135315cf",
   "metadata": {},
   "outputs": [
    {
     "name": "stdout",
     "output_type": "stream",
     "text": [
      "80\n"
     ]
    }
   ],
   "source": [
    "a=[1,2,3,4,5,6,7,80,9,10]\n",
    "print(max(a))"
   ]
  },
  {
   "cell_type": "markdown",
   "id": "7df39b93",
   "metadata": {},
   "source": [
    "#### 3. Write a Python program to get the smallest number from a list"
   ]
  },
  {
   "cell_type": "code",
   "execution_count": 3,
   "id": "608c1374",
   "metadata": {},
   "outputs": [
    {
     "name": "stdout",
     "output_type": "stream",
     "text": [
      "2\n"
     ]
    }
   ],
   "source": [
    "a=[1000,2,3,4,5,6,7,80,9,10]\n",
    "print(min(a))"
   ]
  },
  {
   "cell_type": "markdown",
   "id": "75a385b0",
   "metadata": {},
   "source": [
    "#### 4. Write a Python program to count the number of strings from a given list of strings. The string length is 2 or more and the first and last characters are the same\n",
    "#### Sample List : ['abc', 'xyz', 'aba', '1221']\n",
    "#### Expected Result : 2"
   ]
  },
  {
   "cell_type": "code",
   "execution_count": 10,
   "id": "83302e23",
   "metadata": {},
   "outputs": [
    {
     "name": "stdout",
     "output_type": "stream",
     "text": [
      "3\n"
     ]
    }
   ],
   "source": [
    "a= ['abc', 'xyz', 'aba', '1221','10','101']\n",
    "b=0\n",
    "for i in a:\n",
    "    if i[0]==i[-1] :\n",
    "        b += 1\n",
    "print(b)\n",
    "        "
   ]
  },
  {
   "cell_type": "markdown",
   "id": "72859df1",
   "metadata": {},
   "source": [
    "#### 5.Write a Python program to remove duplicates from a list.\n"
   ]
  },
  {
   "cell_type": "code",
   "execution_count": 15,
   "id": "f45824f4",
   "metadata": {},
   "outputs": [
    {
     "name": "stdout",
     "output_type": "stream",
     "text": [
      "['101', '1221', 'xyz', 'abc', '10', 'aba']\n"
     ]
    }
   ],
   "source": [
    "a= ['abc', 'xyz', 'aba', '1221','10','101', '10','xyz', 'aba', '1221']\n",
    "b=set(a)\n",
    "c=list(b)\n",
    "print(c)"
   ]
  },
  {
   "cell_type": "code",
   "execution_count": 16,
   "id": "f018a7fd",
   "metadata": {},
   "outputs": [
    {
     "name": "stdout",
     "output_type": "stream",
     "text": [
      "['abc', 'xyz', 'aba', '1221', '10', '101']\n"
     ]
    }
   ],
   "source": [
    "a= ['abc', 'xyz', 'aba', '1221','10','101', '10','xyz', 'aba', '1221']\n",
    "b=[]\n",
    "for i in a:\n",
    "    if i not in b:\n",
    "        b.append(i)\n",
    "print(b)"
   ]
  },
  {
   "cell_type": "markdown",
   "id": "3b3d114d",
   "metadata": {},
   "source": [
    "#### 6.Write a Python program to check if a list is empty or not."
   ]
  },
  {
   "cell_type": "code",
   "execution_count": 21,
   "id": "0168d1bf",
   "metadata": {},
   "outputs": [
    {
     "name": "stdout",
     "output_type": "stream",
     "text": [
      "empty\n"
     ]
    }
   ],
   "source": [
    "a=[]\n",
    "if len(a)==0:\n",
    "    print(\"empty\")\n",
    "else:\n",
    "    print(\"not empty\")"
   ]
  },
  {
   "cell_type": "markdown",
   "id": "f3f204f5",
   "metadata": {},
   "source": [
    "#### 7.Write a Python program to find the list of words that are longer than n from a given list of words.\n"
   ]
  },
  {
   "cell_type": "code",
   "execution_count": 32,
   "id": "dba5491e",
   "metadata": {},
   "outputs": [
    {
     "name": "stdout",
     "output_type": "stream",
     "text": [
      "['abcdefg', '100000001']\n"
     ]
    }
   ],
   "source": [
    "a= ['abcdefg', 'xyz', '100000001', 'aba', '1221','111']\n",
    "b=[]\n",
    "for i in a:\n",
    "    if len(i)>len(a):\n",
    "        b.append(i)\n",
    "print(b)"
   ]
  },
  {
   "cell_type": "markdown",
   "id": "84fc9026",
   "metadata": {},
   "source": [
    "#### 8.Write a Python program to print a specified list after removing the 0th, 4th and 5th elements.\n",
    "#### Sample List : ['Red', 'Green', 'White', 'Black', 'Pink', 'Yellow']\n",
    "#### Expected Output : ['Green', 'White', 'Black']\n"
   ]
  },
  {
   "cell_type": "code",
   "execution_count": 41,
   "id": "6c346066",
   "metadata": {},
   "outputs": [
    {
     "name": "stdout",
     "output_type": "stream",
     "text": [
      "['Green', 'White', 'Black']\n"
     ]
    }
   ],
   "source": [
    "a=['Red', 'Green', 'White', 'Black', 'Pink', 'Yellow']\n",
    "c=[]\n",
    "b=[0,4,5]\n",
    "for i in range(len(a)):\n",
    "        if i not in b:\n",
    "            c.append(a[i])\n",
    "print(c)"
   ]
  },
  {
   "cell_type": "markdown",
   "id": "b6e473b4",
   "metadata": {},
   "source": [
    "#### 9.Write a Python program to check if each number is prime in a given list of numbers. Return True if all numbers are prime otherwise False."
   ]
  },
  {
   "cell_type": "code",
   "execution_count": 79,
   "id": "c0a13c74",
   "metadata": {},
   "outputs": [],
   "source": [
    "# a=[0,1,2,4,5,7,8,9,10]\n",
    "# flag=0\n",
    "# for i in a:\n",
    "#     if i>1:\n",
    "#         for j in range(2,i//2+1):\n",
    "#             if i%j!=0:\n",
    "#                 flag==1\n",
    "#             print(\"False\")\n",
    "#             if flag==0:\n",
    "#                 print(\"True\")\n"
   ]
  },
  {
   "cell_type": "code",
   "execution_count": 80,
   "id": "70d651f0",
   "metadata": {},
   "outputs": [
    {
     "name": "stdout",
     "output_type": "stream",
     "text": [
      "false\n"
     ]
    }
   ],
   "source": [
    "a=[11,12,2,3,5,7,11]\n",
    "b=len(a)\n",
    "flag=0\n",
    "for j in a:\n",
    "    if j==1:\n",
    "        flag=0\n",
    "\n",
    "    else:\n",
    "        for i in range(2,j+1):\n",
    "            if j%i!=0:\n",
    "                flag+=1\n",
    "                break\n",
    "        \n",
    "if flag==b:\n",
    "    print(\"true\")\n",
    "else:\n",
    "    print(\"false\")"
   ]
  },
  {
   "cell_type": "code",
   "execution_count": 53,
   "id": "6117b526",
   "metadata": {},
   "outputs": [
    {
     "name": "stdout",
     "output_type": "stream",
     "text": [
      "not prime\n"
     ]
    }
   ],
   "source": [
    "# a=8\n",
    "# flag=0\n",
    "# if a==1:\n",
    "#     pass\n",
    "# for i in range(2,a):\n",
    "#     if a%i==0:\n",
    "#         flag=1\n",
    "# if flag==1:\n",
    "#     print (\"not prime\")\n",
    "# else:\n",
    "#     flag==0\n",
    "#     print(\"prime\")"
   ]
  },
  {
   "cell_type": "code",
   "execution_count": 83,
   "id": "93d515b0",
   "metadata": {},
   "outputs": [
    {
     "name": "stdout",
     "output_type": "stream",
     "text": [
      "false\n"
     ]
    }
   ],
   "source": [
    "a=[1,2,3,4,5,6,7,8,9,10,11]\n",
    "z=[2,3,5,7,11,13,17,19]\n",
    "b=len(a)\n",
    "flag=0\n",
    "count=0\n",
    "for j in a:\n",
    "    if j==1:\n",
    "        flag=0\n",
    "    else:\n",
    "        for i in range(2,j+1):\n",
    "            if j%i!=0:\n",
    "                flag=1\n",
    "                count+=1\n",
    "                break\n",
    "            else:\n",
    "                flag=0\n",
    "                count+=1\n",
    "                break\n",
    "if b==count:\n",
    "    print (\"true\")\n",
    "else:\n",
    "    flag==0\n",
    "    print(\"false\")"
   ]
  },
  {
   "cell_type": "markdown",
   "id": "ac03f382",
   "metadata": {},
   "source": [
    "#### 10. Write a Python program to convert a list of characters into a string.\n"
   ]
  },
  {
   "cell_type": "code",
   "execution_count": 58,
   "id": "c7784960",
   "metadata": {},
   "outputs": [
    {
     "name": "stdout",
     "output_type": "stream",
     "text": [
      "RedGreenWhiteBlackPinkYellow"
     ]
    },
    {
     "data": {
      "text/plain": [
       "str"
      ]
     },
     "execution_count": 58,
     "metadata": {},
     "output_type": "execute_result"
    }
   ],
   "source": [
    "a=['Red', 'Green', 'White', 'Black', 'Pink', 'Yellow']\n",
    "for i in a:\n",
    "    print(str(i), end=\"\")\n",
    "type(i)"
   ]
  },
  {
   "cell_type": "markdown",
   "id": "c22df729",
   "metadata": {},
   "source": [
    "#### 11.Write a Python program to find the second smallest number in a list\n"
   ]
  },
  {
   "cell_type": "code",
   "execution_count": 62,
   "id": "d1b7549d",
   "metadata": {
    "scrolled": true
   },
   "outputs": [
    {
     "name": "stdout",
     "output_type": "stream",
     "text": [
      "2\n"
     ]
    }
   ],
   "source": [
    "a=[1,2,4,5,7,8,9,10]\n",
    "a.remove(min(a))\n",
    "print(min(a))"
   ]
  },
  {
   "cell_type": "code",
   "execution_count": 88,
   "id": "04365509",
   "metadata": {},
   "outputs": [
    {
     "name": "stdout",
     "output_type": "stream",
     "text": [
      "second smallest number in the list is 2\n"
     ]
    }
   ],
   "source": [
    "a=[1,2,4,5,7,8,9,10]\n",
    "a.sort()\n",
    "print(\"second smallest number in the list is\",a[1])"
   ]
  },
  {
   "cell_type": "markdown",
   "id": "47141946",
   "metadata": {},
   "source": [
    "#### 12.Write a Python program to find the second largest number in a list"
   ]
  },
  {
   "cell_type": "code",
   "execution_count": 64,
   "id": "7887a0ef",
   "metadata": {},
   "outputs": [
    {
     "name": "stdout",
     "output_type": "stream",
     "text": [
      "9\n"
     ]
    }
   ],
   "source": [
    "a=[1,2,4,5,7,8,9,10]\n",
    "a.remove(max(a))\n",
    "print(max(a))"
   ]
  },
  {
   "cell_type": "code",
   "execution_count": 90,
   "id": "dc3627e4",
   "metadata": {},
   "outputs": [
    {
     "name": "stdout",
     "output_type": "stream",
     "text": [
      "second largest number is:  9\n"
     ]
    }
   ],
   "source": [
    "a=[1,2,4,5,7,8,9,10]\n",
    "a.sort(reverse=True)\n",
    "print(\"second largest number is: \", a[1])"
   ]
  },
  {
   "cell_type": "markdown",
   "id": "ae26bc8a",
   "metadata": {},
   "source": [
    "#### 13 .Write a Python program to check whether a list contains a sub-list.\n"
   ]
  },
  {
   "cell_type": "code",
   "execution_count": 1,
   "id": "b0f381e4",
   "metadata": {},
   "outputs": [
    {
     "name": "stdout",
     "output_type": "stream",
     "text": [
      "list contains sublist\n"
     ]
    }
   ],
   "source": [
    "a= ['abc', ['xyz','aba', '1221'],['10','101', '10','xyz'], 'aba', '1221']\n",
    "flag=0\n",
    "for i in a:\n",
    "    if type(i)==list:\n",
    "        #print(\"list contains a sub-list.\")\n",
    "        flag=1\n",
    "if flag==1:\n",
    "    print(\"list contains sublist\")\n",
    "else:\n",
    "    print(\"not contain sublist\")\n"
   ]
  },
  {
   "cell_type": "markdown",
   "id": "f406d29c",
   "metadata": {},
   "source": [
    "#### 14. Write a Python program to find common items in two lists.\n"
   ]
  },
  {
   "cell_type": "code",
   "execution_count": 2,
   "id": "e4c31671",
   "metadata": {},
   "outputs": [
    {
     "name": "stdout",
     "output_type": "stream",
     "text": [
      "1 5 8 10 Red Green White "
     ]
    }
   ],
   "source": [
    "a=[1,2,4,5,7,8,9,10,'Red', 'Green', 'White', 'Black', 'Pink', 'Yellow']\n",
    "b=[1,20,40,5,70,8,90,10,'Red', 'Green', 'White']\n",
    "for i in a:\n",
    "    if i in b:\n",
    "        print(i, end=\" \")\n",
    "\n",
    "        "
   ]
  },
  {
   "cell_type": "code",
   "execution_count": null,
   "id": "54785643",
   "metadata": {},
   "outputs": [],
   "source": []
  },
  {
   "cell_type": "code",
   "execution_count": null,
   "id": "31833f37",
   "metadata": {},
   "outputs": [],
   "source": []
  }
 ],
 "metadata": {
  "kernelspec": {
   "display_name": "Python 3 (ipykernel)",
   "language": "python",
   "name": "python3"
  },
  "language_info": {
   "codemirror_mode": {
    "name": "ipython",
    "version": 3
   },
   "file_extension": ".py",
   "mimetype": "text/x-python",
   "name": "python",
   "nbconvert_exporter": "python",
   "pygments_lexer": "ipython3",
   "version": "3.10.9"
  }
 },
 "nbformat": 4,
 "nbformat_minor": 5
}
