{
 "cells": [
  {
   "cell_type": "code",
   "execution_count": 1,
   "id": "8429ef4b",
   "metadata": {},
   "outputs": [],
   "source": [
    "  a= \"Hello World\""
   ]
  },
  {
   "cell_type": "code",
   "execution_count": 2,
   "id": "dca03bb3",
   "metadata": {},
   "outputs": [
    {
     "data": {
      "text/plain": [
       "'HoW'"
      ]
     },
     "execution_count": 2,
     "metadata": {},
     "output_type": "execute_result"
    }
   ],
   "source": [
    "a[0] + a[4] + a[6]"
   ]
  },
  {
   "cell_type": "code",
   "execution_count": 3,
   "id": "9f88334a",
   "metadata": {},
   "outputs": [
    {
     "data": {
      "text/plain": [
       "'HELLO WORLD'"
      ]
     },
     "execution_count": 3,
     "metadata": {},
     "output_type": "execute_result"
    }
   ],
   "source": [
    "a.upper()"
   ]
  },
  {
   "cell_type": "code",
   "execution_count": 4,
   "id": "c379d184",
   "metadata": {},
   "outputs": [
    {
     "data": {
      "text/plain": [
       "'hello world'"
      ]
     },
     "execution_count": 4,
     "metadata": {},
     "output_type": "execute_result"
    }
   ],
   "source": [
    "a.lower()"
   ]
  },
  {
   "cell_type": "code",
   "execution_count": 5,
   "id": "1f8d31e9",
   "metadata": {},
   "outputs": [
    {
     "data": {
      "text/plain": [
       "'Hello Wo'"
      ]
     },
     "execution_count": 5,
     "metadata": {},
     "output_type": "execute_result"
    }
   ],
   "source": [
    "a[:8]"
   ]
  },
  {
   "cell_type": "code",
   "execution_count": 6,
   "id": "0fdb2a5a",
   "metadata": {},
   "outputs": [
    {
     "data": {
      "text/plain": [
       "' World'"
      ]
     },
     "execution_count": 6,
     "metadata": {},
     "output_type": "execute_result"
    }
   ],
   "source": [
    "a[5:]"
   ]
  },
  {
   "cell_type": "code",
   "execution_count": 7,
   "id": "4d6e39b1",
   "metadata": {},
   "outputs": [
    {
     "data": {
      "text/plain": [
       "'ello'"
      ]
     },
     "execution_count": 7,
     "metadata": {},
     "output_type": "execute_result"
    }
   ],
   "source": [
    "a[1:5]"
   ]
  },
  {
   "cell_type": "code",
   "execution_count": 8,
   "id": "1c7c62af",
   "metadata": {},
   "outputs": [
    {
     "data": {
      "text/plain": [
       "'Hello Wor'"
      ]
     },
     "execution_count": 8,
     "metadata": {},
     "output_type": "execute_result"
    }
   ],
   "source": [
    "a[-11:-2]"
   ]
  },
  {
   "cell_type": "code",
   "execution_count": 9,
   "id": "f0c336f7",
   "metadata": {
    "scrolled": true
   },
   "outputs": [
    {
     "data": {
      "text/plain": [
       "'llo Wor'"
      ]
     },
     "execution_count": 9,
     "metadata": {},
     "output_type": "execute_result"
    }
   ],
   "source": [
    "a[2:-2]"
   ]
  },
  {
   "cell_type": "code",
   "execution_count": 10,
   "id": "b5dcf189",
   "metadata": {},
   "outputs": [
    {
     "data": {
      "text/plain": [
       "'Hell'"
      ]
     },
     "execution_count": 10,
     "metadata": {},
     "output_type": "execute_result"
    }
   ],
   "source": [
    "a[-12:4]"
   ]
  },
  {
   "cell_type": "code",
   "execution_count": 11,
   "id": "417941e6",
   "metadata": {},
   "outputs": [
    {
     "data": {
      "text/plain": [
       "'Kello World'"
      ]
     },
     "execution_count": 11,
     "metadata": {},
     "output_type": "execute_result"
    }
   ],
   "source": [
    "a.replace(\"H\",\"K\")"
   ]
  },
  {
   "cell_type": "code",
   "execution_count": 12,
   "id": "902cc371",
   "metadata": {
    "scrolled": true
   },
   "outputs": [
    {
     "data": {
      "text/plain": [
       "['Hello', 'World']"
      ]
     },
     "execution_count": 12,
     "metadata": {},
     "output_type": "execute_result"
    }
   ],
   "source": [
    "a.split(' ')"
   ]
  },
  {
   "cell_type": "code",
   "execution_count": 14,
   "id": "567fb2c0",
   "metadata": {},
   "outputs": [
    {
     "name": "stdout",
     "output_type": "stream",
     "text": [
      "dlroW olleH\n"
     ]
    }
   ],
   "source": [
    "print(a[::-1])"
   ]
  },
  {
   "cell_type": "markdown",
   "id": "d1eb55e4",
   "metadata": {},
   "source": [
    "## Questions and Answers"
   ]
  },
  {
   "cell_type": "code",
   "execution_count": 15,
   "id": "0c00065a",
   "metadata": {},
   "outputs": [
    {
     "name": "stdout",
     "output_type": "stream",
     "text": [
      "enter a radius :3\n",
      "area of a circle is 28.26\n"
     ]
    }
   ],
   "source": [
    "#write a program to calculate the area of circle\n",
    "\n",
    "r= int(input(\"enter a radius :\"))\n",
    "area = 3.14 * (r**2)\n",
    "print(\"area of a circle is\", area)"
   ]
  },
  {
   "cell_type": "code",
   "execution_count": 16,
   "id": "14c05124",
   "metadata": {},
   "outputs": [
    {
     "name": "stdout",
     "output_type": "stream",
     "text": [
      "vol of sphere is 904.3199999999999\n"
     ]
    }
   ],
   "source": [
    "#write a program to get the volume of a sphere with radius 6\n",
    "\n",
    "r=6\n",
    "vol = (4/3)*3.14*(r**3)\n",
    "print(\"vol of sphere is\" , vol)"
   ]
  },
  {
   "cell_type": "code",
   "execution_count": 18,
   "id": "3ca4ba29",
   "metadata": {},
   "outputs": [
    {
     "name": "stdout",
     "output_type": "stream",
     "text": [
      "enter first name :aswathi\n",
      "enter last name :mv\n",
      "the full name is: ihtawsa vm\n"
     ]
    }
   ],
   "source": [
    "#write a program that accept the user's first&last name and print them in reverse order with a space between them\n",
    "\n",
    "fst=input(\"enter first name :\")\n",
    "lst=input('enter last name :')\n",
    "print(\"the full name is:\", fst[::-1],lst[::-1])"
   ]
  },
  {
   "cell_type": "code",
   "execution_count": 27,
   "id": "b02ecc83",
   "metadata": {},
   "outputs": [
    {
     "data": {
      "text/plain": [
       "'aukellylt'"
      ]
     },
     "execution_count": 27,
     "metadata": {},
     "output_type": "execute_result"
    }
   ],
   "source": [
    "#append a new string in the middle a given string s1 and s2\n",
    "\n",
    "s1=\"ault\"\n",
    "s2=\"kelly\"\n",
    "length= len(s1)\n",
    "leng=len(s1)//2\n",
    "s3= s1[:leng]+s2+s1[leng:]\n",
    "s3"
   ]
  },
  {
   "cell_type": "code",
   "execution_count": 31,
   "id": "94a69e1b",
   "metadata": {},
   "outputs": [
    {
     "data": {
      "text/plain": [
       "'aukellylt'"
      ]
     },
     "execution_count": 31,
     "metadata": {},
     "output_type": "execute_result"
    }
   ],
   "source": [
    "s1=\"ault\"\n",
    "s2=\"kelly\"\n",
    "s3= s1[0]+s1[1]+s2+s1[2]+s1[3]\n",
    "s3"
   ]
  },
  {
   "cell_type": "code",
   "execution_count": 35,
   "id": "fbd9c599",
   "metadata": {},
   "outputs": [
    {
     "data": {
      "text/plain": [
       "'AJRPAN'"
      ]
     },
     "execution_count": 35,
     "metadata": {},
     "output_type": "execute_result"
    }
   ],
   "source": [
    "#create a new string made of 1st , middle& last character of each input string i/p s1 & s2\n",
    "\n",
    "s1=\"AMERICA\"\n",
    "s2=\"JAPAN\"\n",
    "s3=s1[0]+s2[0]+s1[3]+s2[2]+s1[-1]+s2[-1]\n",
    "s3"
   ]
  },
  {
   "cell_type": "code",
   "execution_count": 37,
   "id": "aec7c427",
   "metadata": {},
   "outputs": [
    {
     "data": {
      "text/plain": [
       "'AJRPAN'"
      ]
     },
     "execution_count": 37,
     "metadata": {},
     "output_type": "execute_result"
    }
   ],
   "source": [
    "s1=\"AMERICA\"\n",
    "s2=\"JAPAN\"\n",
    "mid1=len(s1)//2\n",
    "mid2=len(s2)//2\n",
    "s3=s1[0]+s2[0]+s1[mid1]+s2[mid2]+s1[-1]+s2[-1]\n",
    "s3"
   ]
  },
  {
   "cell_type": "code",
   "execution_count": null,
   "id": "403cd88a",
   "metadata": {},
   "outputs": [],
   "source": []
  }
 ],
 "metadata": {
  "kernelspec": {
   "display_name": "Python 3 (ipykernel)",
   "language": "python",
   "name": "python3"
  },
  "language_info": {
   "codemirror_mode": {
    "name": "ipython",
    "version": 3
   },
   "file_extension": ".py",
   "mimetype": "text/x-python",
   "name": "python",
   "nbconvert_exporter": "python",
   "pygments_lexer": "ipython3",
   "version": "3.9.13"
  }
 },
 "nbformat": 4,
 "nbformat_minor": 5
}
